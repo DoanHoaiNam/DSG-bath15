{
 "cells": [
  {
   "cell_type": "code",
   "execution_count": 6,
   "id": "08e247c6",
   "metadata": {},
   "outputs": [
    {
     "name": "stdout",
     "output_type": "stream",
     "text": [
      "my name is Moon\n",
      "Old: 3\n",
      "Numid is: 536\n",
      "Parents: Sun\n",
      "my name is Sun\n",
      "Old: 9\n",
      "Numid is: 231\n",
      "Sun\n",
      "9\n",
      "231\n"
     ]
    }
   ],
   "source": [
    "class Dog:\n",
    "    def __init__(self, name, old, numid):\n",
    "        self.name = name\n",
    "        self.old = old \n",
    "        self.numid = numid\n",
    "    def display(self):\n",
    "        print(self.name)\n",
    "        print(self.old)\n",
    "        print(self.numid)\n",
    "    def details(self):\n",
    "        print(\"my name is {}\".format(self.name))\n",
    "        print(\"Old: {}\".format(self.old))\n",
    "        print(\"Numid is: {}\".format(self.numid))\n",
    "class child(Dog):\n",
    "    def __init__(self, name, old, numid, parent):\n",
    "        self.parent = parent\n",
    "        Dog.__init__(self, name, old, numid)\n",
    "    def details(self):\n",
    "        print(\"my name is {}\".format(self.name))\n",
    "        print(\"Old: {}\".format(self.old))\n",
    "        print(\"Numid is: {}\".format(self.numid))\n",
    "        print(\"Parents: {}\".format(self.parent))\n",
    "Sun = Dog(\"Sun\", 9, 231)\n",
    "Moon = child(\"Moon\", 3, 536, \"Sun\")\n",
    "Moon.details()\n",
    "Sun.details()\n",
    "Sun.display()"
   ]
  },
  {
   "cell_type": "code",
   "execution_count": null,
   "id": "94ff84a9",
   "metadata": {},
   "outputs": [],
   "source": []
  }
 ],
 "metadata": {
  "kernelspec": {
   "display_name": "Python 3 (ipykernel)",
   "language": "python",
   "name": "python3"
  },
  "language_info": {
   "codemirror_mode": {
    "name": "ipython",
    "version": 3
   },
   "file_extension": ".py",
   "mimetype": "text/x-python",
   "name": "python",
   "nbconvert_exporter": "python",
   "pygments_lexer": "ipython3",
   "version": "3.9.7"
  }
 },
 "nbformat": 4,
 "nbformat_minor": 5
}
