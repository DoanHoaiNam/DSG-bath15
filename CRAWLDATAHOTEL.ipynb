{
 "cells": [
  {
   "cell_type": "code",
   "execution_count": 112,
   "id": "981616c4",
   "metadata": {},
   "outputs": [],
   "source": [
    "import pandas as pd\n",
    "import numpy as np\n",
    "import matplotlib.pyplot as plt\n",
    "import seaborn as sns\n",
    "%matplotlib inline\n",
    "import csv\n",
    "import re"
   ]
  },
  {
   "cell_type": "code",
   "execution_count": 56,
   "id": "2323e3c0",
   "metadata": {},
   "outputs": [],
   "source": [
    "from urllib.request import urlopen\n",
    "from bs4 import BeautifulSoup\n",
    "import requests"
   ]
  },
  {
   "cell_type": "code",
   "execution_count": 116,
   "id": "0d9bd9ea",
   "metadata": {},
   "outputs": [],
   "source": [
    "\n",
    "div = soup.find('div', class_='d4924c9e74')\n"
   ]
  },
  {
   "cell_type": "code",
   "execution_count": 62,
   "id": "45a63436",
   "metadata": {},
   "outputs": [
    {
     "name": "stdout",
     "output_type": "stream",
     "text": [
      "RAON Hotel - STAY 24HMở trong cửa sổ mới\n",
      "Khách Sạn LUCIEN HOTEL Quy NhơnMở trong cửa sổ mới\n",
      "Nam Thu HotelMở trong cửa sổ mới\n",
      "An Ngân Phú HotelMở trong cửa sổ mới\n",
      "FLC Sea Tower Quy Nhon- Căn Hộ View BiểnMở trong cửa sổ mới\n",
      "Quy Nhon Pearl - FLC Sea TowerMở trong cửa sổ mới\n",
      "Dankbaar Resort Quy NhonMở trong cửa sổ mới\n",
      "FLC Sea Tower Quy Nhon - Tran Ocean ViewMở trong cửa sổ mới\n",
      "The Kila Boutique HotelMở trong cửa sổ mới\n",
      "An Phát MotelMở trong cửa sổ mới\n",
      "FLC Sea Tower Quy Nhơn Apartment - Chillin Căn Hộ Hướng BiểnMở trong cửa sổ mới\n",
      "Odin Hotel Quy NhonMở trong cửa sổ mới\n",
      "QUE HUONG HOTELMở trong cửa sổ mới\n",
      "Life's A BeachMở trong cửa sổ mới\n",
      "Ohana VillageMở trong cửa sổ mới\n",
      "Quy Nhơn BalahouseMở trong cửa sổ mới\n",
      "Aloha Hotel Quy NhơnMở trong cửa sổ mới\n",
      "Xavia Hotel Quy NhơnMở trong cửa sổ mới\n",
      "Lavender Tan Thanh Hotel mini resortMở trong cửa sổ mới\n",
      "FLC Sea Tower - Quy Nhon BeachMở trong cửa sổ mới\n",
      "Hotel Hoàng Hưng Quy NhơnMở trong cửa sổ mới\n",
      "FLC Quy Nhơn Sea View Apartment - CHANH Căn Hộ Hướng BiểnMở trong cửa sổ mới\n",
      "Nhà nghỉ SunriseMở trong cửa sổ mới\n",
      "TMS Quy Nhơn - RUBY Luxury ApartmentMở trong cửa sổ mới\n",
      "Lux Quy Nhon HomestayMở trong cửa sổ mới\n"
     ]
    }
   ],
   "source": [
    "for div_item in div:\n",
    "    title_tag = div_item.find('h3', class_=\"aab71f8e4e\")\n",
    "    if title_tag:\n",
    "        title = title_tag.text.strip()\n",
    "        print(title)"
   ]
  },
  {
   "cell_type": "code",
   "execution_count": 114,
   "id": "155719e8",
   "metadata": {},
   "outputs": [
    {
     "name": "stdout",
     "output_type": "stream",
     "text": [
      "Product Name: RAON Hotel - STAY 24H\n",
      "Product Rating: 4\n",
      "Product Link: https://www.booking.com/hotel/vn/nam-thu.vi.html?ucfs=1&arphpl=1&dest_id=6923&dest_type=region&group_adults=2&req_adults=2&no_rooms=1&group_children=0&req_children=0&hpos=1&hapos=1&sr_order=popularity&srpvid=4e3b43d3f3b00103&srepoch=1708681127&from_sustainable_property_sr=1&from=searchresults#hotelTmpl\n",
      "------------------------------\n"
     ]
    }
   ],
   "source": [
    "url = \"https://www.booking.com/searchresults.vi.html?aid=356980&label=gog235jc-1DCAYo9AFCCWJpbmgtZGluaEgqWANo9AGIAQGYASq4ARfIAQzYAQPoAQH4AQKIAgGoAgO4Au2z4a4GwAIB0gIkYzc0NWRjMmQtNzFmZC00MmVjLTkyNTUtZjNjZTM1ZjQwMjFh2AIE4AIB&lang=vi&sid=38065bbf1e3c965d475aa7318eee54ab&sb=1&sb_lp=1&src=region&src_elem=sb&error_url=https%3A%2F%2Fwww.booking.com%2Fregion%2Fvn%2Fbinh-dinh.vi.html%3Faid%3D356980%26label%3Dgog235jc-1DCAYo9AFCCWJpbmgtZGluaEgqWANo9AGIAQGYASq4ARfIAQzYAQPoAQH4AQKIAgGoAgO4Au2z4a4GwAIB0gIkYzc0NWRjMmQtNzFmZC00MmVjLTkyNTUtZjNjZTM1ZjQwMjFh2AIE4AIB%26sid%3D38065bbf1e3c965d475aa7318eee54ab%26&ss=B%C3%ACnh+%C4%90%E1%BB%8Bnh&is_ski_area=0&ssne=B%C3%ACnh+%C4%90%E1%BB%8Bnh&ssne_untouched=B%C3%ACnh+%C4%90%E1%BB%8Bnh&region=6923&checkin_year=&checkin_month=&checkout_year=&checkout_month=&flex_window=0&efdco=1&group_adults=2&group_children=0&no_rooms=1&b_h4u_keep_filters=&from_sf=1\"\n",
    "response = requests.get(url)\n",
    "for div_item in div:\n",
    "    if response.status_code == 200:\n",
    "        soup = BeautifulSoup(response.content, 'html.parser')\n",
    "\n",
    "        # Tìm tất cả các sản phẩm trên trang\n",
    "        products = soup.find_all('div', class_='d4924c9e74')\n",
    "\n",
    "        for product in products:\n",
    "            # Trích xuất thông tin của mỗi sản phẩm\n",
    "            product_name = product.find('h3', class_='aab71f8e4e').text.strip()\n",
    "            text_to_remove = \"Mở trong cửa sổ mới\"\n",
    "            result_string = re.sub(re.escape(text_to_remove), '', product_name)\n",
    "\n",
    "            # Trích xuất thông tin số sao\n",
    "            product_img = product.find('div', role='img')\n",
    "            so_sao = product_img.text.strip() if product_img else \"N/A\"\n",
    "            div_count = len(product_img.find_all('span',class_='fcd9eec8fb d31eda6efc c25361c37f'))\n",
    "            # Lấy link URL của sản phẩm\n",
    "            product_link = product.find('a')['href']\n",
    "\n",
    "            # In thông tin của sản phẩm và link URL\n",
    "            print(\"Product Name:\", result_string)\n",
    "            print(\"Product Rating:\", div_count)\n",
    "            print(\"Product Link:\", product_link)\n",
    "            print(\"-\" * 30)\n",
    "    else:\n",
    "        print(\"Failed to retrieve the webpage.\") \n"
   ]
  },
  {
   "cell_type": "code",
   "execution_count": null,
   "id": "79b28db9",
   "metadata": {},
   "outputs": [],
   "source": []
  }
 ],
 "metadata": {
  "kernelspec": {
   "display_name": "Python 3 (ipykernel)",
   "language": "python",
   "name": "python3"
  },
  "language_info": {
   "codemirror_mode": {
    "name": "ipython",
    "version": 3
   },
   "file_extension": ".py",
   "mimetype": "text/x-python",
   "name": "python",
   "nbconvert_exporter": "python",
   "pygments_lexer": "ipython3",
   "version": "3.9.7"
  }
 },
 "nbformat": 4,
 "nbformat_minor": 5
}
